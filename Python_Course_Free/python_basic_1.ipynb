{
  "nbformat": 4,
  "nbformat_minor": 0,
  "metadata": {
    "colab": {
      "provenance": [],
      "include_colab_link": true
    },
    "kernelspec": {
      "name": "python3",
      "display_name": "Python 3"
    },
    "language_info": {
      "name": "python"
    }
  },
  "cells": [
    {
      "cell_type": "markdown",
      "metadata": {
        "id": "view-in-github",
        "colab_type": "text"
      },
      "source": [
        "<a href=\"https://colab.research.google.com/github/TSDWDemon/Python-Code/blob/main/Python_BASICS_1.ipynb\" target=\"_parent\"><img src=\"https://colab.research.google.com/assets/colab-badge.svg\" alt=\"Open In Colab\"/></a>"
      ]
    },
    {
      "cell_type": "markdown",
      "source": [
        "#BASICS OF PYTHON FOR BEGINNER LEVELS\n",
        "                                      By Syed Amaan Haider"
      ],
      "metadata": {
        "id": "KEc5qukbVtof"
      }
    },
    {
      "cell_type": "markdown",
      "source": [
        "Using this basic **print** statement you can learn how we can Print a basic alphabet\n",
        "\n",
        "In programming language there is a lot of difference in Alphabets\n",
        "* **Strings**: A sequence of characters. For example, \"hello\" is a string consisting of five characters.\n",
        "* **Character**: In Python, there isn’t a separate character type. Instead, a single character is simply a string of length one. For example, 'a' is a string with one character12."
      ],
      "metadata": {
        "id": "Wy0DIwxGWBfN"
      }
    },
    {
      "cell_type": "code",
      "execution_count": null,
      "metadata": {
        "colab": {
          "base_uri": "https://localhost:8080/"
        },
        "id": "bJpjZzAiMN8L",
        "outputId": "dfd79951-692e-40b2-ce7b-880700907675"
      },
      "outputs": [
        {
          "output_type": "stream",
          "name": "stdout",
          "text": [
            "Hello World\n"
          ]
        }
      ],
      "source": [
        "print(\"Hello World\")"
      ]
    },
    {
      "cell_type": "markdown",
      "source": [
        "#THEN MOVING ONTO VARIABLES\n",
        "\n",
        "**Variable**\n",
        "\n",
        "Variable is like a container which we use use to store different types of values.\n",
        "A variable name must start with a letter or the underscore character\n",
        "A variable name cannot start with a number\n",
        "A variable name can only contain alpha-numeric characters and underscores (A-z, 0-9, and _ )"
      ],
      "metadata": {
        "id": "T5JHG5TXOTok"
      }
    },
    {
      "cell_type": "code",
      "source": [
        "a = 98\n",
        "print(a)\n",
        "type(a) #this shows the type of datatype the value you provide is"
      ],
      "metadata": {
        "colab": {
          "base_uri": "https://localhost:8080/"
        },
        "id": "M6LY4P_cN3Ui",
        "outputId": "e61a2961-3361-46b3-feb5-afbaba6e125e"
      },
      "execution_count": null,
      "outputs": [
        {
          "output_type": "stream",
          "name": "stdout",
          "text": [
            "98\n"
          ]
        },
        {
          "output_type": "execute_result",
          "data": {
            "text/plain": [
              "int"
            ]
          },
          "metadata": {},
          "execution_count": 4
        }
      ]
    },
    {
      "cell_type": "code",
      "source": [
        "a=b=c=2\n",
        "'''\n",
        "using this we can assign one value to many variable so in series\n",
        "if you print like a , b , c you will get the same value which is 2\n",
        "'''\n",
        "print(a)\n",
        "print(b)\n",
        "print(c)\n",
        "print(a,b,c)"
      ],
      "metadata": {
        "colab": {
          "base_uri": "https://localhost:8080/"
        },
        "id": "I3-MAFu0PhMR",
        "outputId": "544e1a52-5972-430b-cf88-c237680e1fdb"
      },
      "execution_count": 4,
      "outputs": [
        {
          "output_type": "stream",
          "name": "stdout",
          "text": [
            "2\n",
            "2\n",
            "2\n",
            "2 2 2\n"
          ]
        }
      ]
    },
    {
      "cell_type": "markdown",
      "source": [
        "Hence, as you have seen the above output which is\n",
        "\n",
        "2\n",
        "\n",
        "2\n",
        "\n",
        "2\n",
        "\n",
        "and 2  2  2\n",
        "\n",
        "thats because of the usage of print statement and variables we passed in it"
      ],
      "metadata": {
        "id": "ilq3dF4KXpqa"
      }
    },
    {
      "cell_type": "markdown",
      "source": [
        "#ASSIGNEMENT OF VALUES TO VARIABLES IN A SINGLE LINE\n",
        "Here we do a , b , c = 1 , 2 , 3\n",
        "\n",
        "which basically means a -> 1\n",
        "                      b -> 2\n",
        "                      c -> 3\n",
        "\n"
      ],
      "metadata": {
        "id": "LMCH_6oyYQ3l"
      }
    },
    {
      "cell_type": "code",
      "source": [
        "a,b,c = 1,2,3 #Here we appointed 3 values to 3 other variables\n",
        "print(a,b,c)"
      ],
      "metadata": {
        "colab": {
          "base_uri": "https://localhost:8080/"
        },
        "id": "rPmZSetVQLuZ",
        "outputId": "905ec505-365b-428b-8636-b63325b2cc99"
      },
      "execution_count": 5,
      "outputs": [
        {
          "output_type": "stream",
          "name": "stdout",
          "text": [
            "1 2 3\n"
          ]
        }
      ]
    },
    {
      "cell_type": "markdown",
      "source": [
        "As per the output we understand that values store in the variable are in order in which we assigned it to them"
      ],
      "metadata": {
        "id": "rZSHXXqtZAs2"
      }
    },
    {
      "cell_type": "markdown",
      "source": [
        "#TYPES OF DATATYPES\n",
        "* Text Type:\tstr (remember python doesn't have char)\n",
        "* Numeric Types:\tint, float, complex\n",
        "* Sequence Types:\tlist, tuple, range\n",
        "* Mapping Type:\tdict\n",
        "* Set Types:\tset, frozenset\n",
        "* Boolean Type:\tbool\n",
        "* Binary Types:\tbytes, bytearray, memoryview\n",
        "* None Type:\tNoneType\n",
        "\n",
        "\n",
        "---\n",
        "\n",
        "\n"
      ],
      "metadata": {
        "id": "NaKMsn4VQtWo"
      }
    },
    {
      "cell_type": "markdown",
      "source": [
        "Here we provided a complex value to the code and this is how output shows"
      ],
      "metadata": {
        "id": "-84p09qmZbZ4"
      }
    },
    {
      "cell_type": "code",
      "source": [
        "x = 5j #complex value\n",
        "type(x) #this shows the type of datatype the value you provide is"
      ],
      "metadata": {
        "colab": {
          "base_uri": "https://localhost:8080/"
        },
        "id": "8bxSnvlCQf-r",
        "outputId": "11ab8ea1-c42a-4717-f1b3-6a87d5084447"
      },
      "execution_count": null,
      "outputs": [
        {
          "output_type": "execute_result",
          "data": {
            "text/plain": [
              "complex"
            ]
          },
          "metadata": {},
          "execution_count": 13
        }
      ]
    },
    {
      "cell_type": "markdown",
      "source": [
        "As above output declared it's type which is complex so that how we identify variable's datatype using type() function\n",
        "\n",
        "\n",
        "---\n",
        "\n"
      ],
      "metadata": {
        "id": "aW_3L1VvZmlX"
      }
    },
    {
      "cell_type": "markdown",
      "source": [
        "#OPERATORS\n",
        "Arithmetic Operators: Perform basic mathematical operations.\n",
        "* (Addition) +\n",
        "* (Subtraction) -\n",
        "* *(Multiplication)\n",
        "* / (Division)\n",
        "* % (Modulus)\n",
        "* ** (Exponentiation)\n",
        "* // (Floor Division)\n",
        "\n",
        "Assignment Operators: Assign values to variables.\n",
        "* = (Assign)\n",
        "* += (Add and assign)\n",
        "* -= (Subtract and assign)\n",
        "* *= (Multiply and assign)\n",
        "* /= (Divide and assign)\n",
        "* %= (Modulus and assign)\n",
        "* **= (Exponentiation and assign)\n",
        "* //= (Floor division and assign)\n",
        "\n",
        "Comparison Operators: Compare two values.\n",
        "* == (Equal)\n",
        "* != (Not equal)\n",
        "* (Greater than) >\n",
        "* (Less than) <\n",
        "* (Greater than or equal to) >=\n",
        "* (Less than or equal to) <=\n",
        "\n",
        "Logical Operators: Combine conditional statements.\n",
        "* and (Logical AND)\n",
        "* or (Logical OR)\n",
        "* not (Logical NOT)\n",
        "\n",
        "Identity Operators: Compare the memory locations of two objects.\n",
        "* is (Same object)\n",
        "* is not (Not the same object)\n",
        "* Membership Operators: Test if a sequence is present in an object.\n",
        "* in (Exists in)\n",
        "* not in (Does not exist in)\n",
        "* Bitwise Operators: Perform bit-level operations.\n",
        "* & (AND)\n",
        "* | (OR)\n",
        "* ^ (XOR)\n",
        "* ~ (NOT)\n",
        "* (Zero fill left shift) <<\n",
        "* (Signed right shift) <<\n",
        "\n",
        "*We will have a whole other chapter for this posted over github python basics so don't worry for now learn some basics operation*\n",
        "\n",
        "remeber if we have a value like a + b\n",
        "\n",
        "then,\n",
        "* a = operand\n",
        "*  += operator\n",
        "* b = operand"
      ],
      "metadata": {
        "id": "rw-AqaH3Z7jX"
      }
    },
    {
      "cell_type": "code",
      "source": [
        "a = 73298\n",
        "b = 29812\n",
        "c = a+b\n",
        "print(c)"
      ],
      "metadata": {
        "colab": {
          "base_uri": "https://localhost:8080/"
        },
        "id": "glvU2Q8BRL3l",
        "outputId": "51d5c337-cbbd-4ac2-b7c1-a8e11cca2815"
      },
      "execution_count": 2,
      "outputs": [
        {
          "output_type": "stream",
          "name": "stdout",
          "text": [
            "103110\n"
          ]
        }
      ]
    },
    {
      "cell_type": "code",
      "source": [
        "#concatination using Strings value where you have to enclose the Alphabets with (\" \")\n",
        "a = \"TSDW\"\n",
        "b = \" Demon\"\n",
        "print(a+b)"
      ],
      "metadata": {
        "colab": {
          "base_uri": "https://localhost:8080/"
        },
        "id": "wOMJuhStR8l-",
        "outputId": "df3d229c-b921-448b-b178-b9874ddc2ce9"
      },
      "execution_count": 4,
      "outputs": [
        {
          "output_type": "stream",
          "name": "stdout",
          "text": [
            "TSDW Demon\n"
          ]
        }
      ]
    },
    {
      "cell_type": "markdown",
      "source": [
        "#MORE WE WILL LEARN IN NEXT BASIC PART 2\n",
        "Run this program for Easter Eggs to look cool for your people you can replace my name to your desired prompt enjoy\n",
        "\n",
        "line to be modified by you\n",
        "\n",
        "\n",
        "> animated_text(\"Hello, this is TSDW Demon\", delay=0.1)\n",
        "\n",
        "now find it by yourself enough of hints xD\n",
        "\n"
      ],
      "metadata": {
        "id": "v_Y_ntxx3RF5"
      }
    },
    {
      "cell_type": "code",
      "source": [
        "import time\n",
        "\n",
        "def animated_text(text, delay=0.1):\n",
        "    for char in text:\n",
        "        print(char, end='', flush=True)\n",
        "        time.sleep(delay)\n",
        "    print()\n",
        "\n",
        "animated_text(\"Hello, this is TSDW Demon\", delay=0.1)\n"
      ],
      "metadata": {
        "colab": {
          "base_uri": "https://localhost:8080/"
        },
        "id": "m92EF-k33x0B",
        "outputId": "e0c65ce5-6740-4390-80c0-5f17109e8ced"
      },
      "execution_count": 9,
      "outputs": [
        {
          "output_type": "stream",
          "name": "stdout",
          "text": [
            "Hello, this is TSDW Demon\n"
          ]
        }
      ]
    },
    {
      "cell_type": "code",
      "source": [],
      "metadata": {
        "id": "eBpW6OuI39Sh"
      },
      "execution_count": null,
      "outputs": []
    }
  ]
}
